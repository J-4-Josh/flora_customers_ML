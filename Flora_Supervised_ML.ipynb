{
 "cells": [
  {
   "cell_type": "code",
   "execution_count": 2,
   "id": "884ce517",
   "metadata": {},
   "outputs": [
    {
     "data": {
      "text/html": [
       "<div>\n",
       "<style scoped>\n",
       "    .dataframe tbody tr th:only-of-type {\n",
       "        vertical-align: middle;\n",
       "    }\n",
       "\n",
       "    .dataframe tbody tr th {\n",
       "        vertical-align: top;\n",
       "    }\n",
       "\n",
       "    .dataframe thead th {\n",
       "        text-align: right;\n",
       "    }\n",
       "</style>\n",
       "<table border=\"1\" class=\"dataframe\">\n",
       "  <thead>\n",
       "    <tr style=\"text-align: right;\">\n",
       "      <th></th>\n",
       "      <th>customer_id</th>\n",
       "      <th>type_of_client</th>\n",
       "      <th>total_ytd_order</th>\n",
       "      <th>total_order_amount_ytd</th>\n",
       "      <th>YTD_amount_negative</th>\n",
       "      <th>total_order_amount_Q4</th>\n",
       "      <th>Q4_amount_negative</th>\n",
       "      <th>sex</th>\n",
       "      <th>marital_status</th>\n",
       "      <th>employment_type</th>\n",
       "      <th>occupation</th>\n",
       "      <th>country_of_origins</th>\n",
       "      <th>age</th>\n",
       "      <th>education</th>\n",
       "      <th>completed_years_of_education</th>\n",
       "      <th>marital_status.1</th>\n",
       "      <th>relationship_in_household</th>\n",
       "      <th>race</th>\n",
       "    </tr>\n",
       "  </thead>\n",
       "  <tbody>\n",
       "    <tr>\n",
       "      <th>0</th>\n",
       "      <td>760566</td>\n",
       "      <td>NaN</td>\n",
       "      <td>51</td>\n",
       "      <td>123.85</td>\n",
       "      <td>1</td>\n",
       "      <td>0.00</td>\n",
       "      <td>1</td>\n",
       "      <td>1</td>\n",
       "      <td>1</td>\n",
       "      <td>Private</td>\n",
       "      <td>Exec-managerial</td>\n",
       "      <td>United-States</td>\n",
       "      <td>47</td>\n",
       "      <td>Masters</td>\n",
       "      <td>14</td>\n",
       "      <td>Married-civ-spouse</td>\n",
       "      <td>Husband</td>\n",
       "      <td>White</td>\n",
       "    </tr>\n",
       "    <tr>\n",
       "      <th>1</th>\n",
       "      <td>5977861</td>\n",
       "      <td>NaN</td>\n",
       "      <td>23</td>\n",
       "      <td>137.07</td>\n",
       "      <td>1</td>\n",
       "      <td>0.00</td>\n",
       "      <td>1</td>\n",
       "      <td>1</td>\n",
       "      <td>1</td>\n",
       "      <td>Self-emp-not-inc</td>\n",
       "      <td>Prof-specialty</td>\n",
       "      <td>United-States</td>\n",
       "      <td>64</td>\n",
       "      <td>Prof-school</td>\n",
       "      <td>15</td>\n",
       "      <td>Married-civ-spouse</td>\n",
       "      <td>Husband</td>\n",
       "      <td>White</td>\n",
       "    </tr>\n",
       "    <tr>\n",
       "      <th>2</th>\n",
       "      <td>5990855</td>\n",
       "      <td>Personal</td>\n",
       "      <td>5</td>\n",
       "      <td>62.65</td>\n",
       "      <td>1</td>\n",
       "      <td>62.65</td>\n",
       "      <td>1</td>\n",
       "      <td>0</td>\n",
       "      <td>0</td>\n",
       "      <td>Self-emp-not-inc</td>\n",
       "      <td>Other-service</td>\n",
       "      <td>United-States</td>\n",
       "      <td>25</td>\n",
       "      <td>HS-grad</td>\n",
       "      <td>9</td>\n",
       "      <td>Never-married</td>\n",
       "      <td>Unmarried</td>\n",
       "      <td>White</td>\n",
       "    </tr>\n",
       "  </tbody>\n",
       "</table>\n",
       "</div>"
      ],
      "text/plain": [
       "   customer_id type_of_client  total_ytd_order  total_order_amount_ytd  YTD_amount_negative  total_order_amount_Q4  Q4_amount_negative  sex  marital_status   employment_type       occupation country_of_origins  age    education  completed_years_of_education    marital_status.1 relationship_in_household   race\n",
       "0       760566            NaN               51                  123.85                    1                   0.00                   1    1               1           Private  Exec-managerial      United-States   47      Masters                            14  Married-civ-spouse                   Husband  White\n",
       "1      5977861            NaN               23                  137.07                    1                   0.00                   1    1               1  Self-emp-not-inc   Prof-specialty      United-States   64  Prof-school                            15  Married-civ-spouse                   Husband  White\n",
       "2      5990855       Personal                5                   62.65                    1                  62.65                   1    0               0  Self-emp-not-inc    Other-service      United-States   25      HS-grad                             9       Never-married                 Unmarried  White"
      ]
     },
     "execution_count": 2,
     "metadata": {},
     "output_type": "execute_result"
    }
   ],
   "source": [
    "# importing libraries\n",
    "import pandas as pd             # data science essentials\n",
    "import matplotlib.pyplot as plt # essential graphical output\n",
    "import seaborn as sns           # enhanced graphical output\n",
    "\n",
    "\n",
    "# setting pandas print options\n",
    "pd.set_option('display.max_rows', 500)\n",
    "pd.set_option('display.max_columns', 500)\n",
    "pd.set_option('display.width', 1000)\n",
    "\n",
    "\n",
    "# specifying file name\n",
    "\n",
    "file = '/Users/joshuvajohn/Desktop/Machine Learning/Regression Modeling/__datasets/floraf.csv'\n",
    "\n",
    "\n",
    "# reading the file into Python\n",
    "flora = pd.read_csv(file)\n",
    "\n",
    "\n",
    "# outputting the first ten rows of the dataset\n",
    "\n",
    "\n",
    "\n",
    "flora.head(n=3)"
   ]
  },
  {
   "cell_type": "code",
   "execution_count": 3,
   "id": "bd574695",
   "metadata": {},
   "outputs": [
    {
     "data": {
      "text/plain": [
       "Private             3065\n",
       "Self-emp-not-inc     303\n",
       "Local-gov            246\n",
       "State-gov            168\n",
       "Self-emp-inc         141\n",
       "Federal-gov          108\n",
       "Without-pay            3\n",
       "Name: employment_type, dtype: int64"
      ]
     },
     "execution_count": 3,
     "metadata": {},
     "output_type": "execute_result"
    }
   ],
   "source": [
    "\n",
    "flora['employment_type'].value_counts()\n",
    "\n",
    "\n",
    "\n",
    "\n",
    "\n",
    "\n"
   ]
  },
  {
   "cell_type": "code",
   "execution_count": null,
   "id": "7773cf8a",
   "metadata": {},
   "outputs": [],
   "source": [
    "flora['is_Private'] = np.where(flora['employment_type']=='Private', 1, 0)\n",
    "flora['is_Gov'] = np.where(flora['employment_type']=='Local-gov', 1, 0)\n",
    "flora['is_Gov'] = np.where(flora['employment_type']=='State-gov', 1, 0) \n",
    "flora['is_Gov'] = np.where(flora['employment_type']=='Federal-gov', 1, 0) \n",
    "flora['is_Self_Emp'] = np.where(flora['employment_type']=='Self-emp-not-inc', 1, 0)\n",
    "flora['is_Self_Emp'] = np.where(flora['employment_type']=='Self-emp-inc', 1, 0)\n",
    "flora['is_no_pay'] = np.where(flora['employment_type']=='Without-pay', 1, 0)\n",
    "flora['is_white'] = np.where(flora['race']=='white', 1, 0)\n",
    "flora['is_black'] = np.where(flora['race']=='black', 1, 0)\n",
    "flora['is_Api'] = np.where(flora['race']=='Asian-Pac-Islander', 1, 0)\n",
    "flora['is_Aie'] = np.where(flora['race']=='Amer-Indian-Eskimo', 1, 0)\n",
    "flora['is_Other'] = np.where(flora['race']=='Other', 1, 0)\n",
    "flora['is_Husband'] = np.where(flora['relationship_in_household']=='Husband', 1, 0)\n",
    "flora['is_Not_in_family'] = np.where(flora['relationship_in_household']=='Not-in-family', 1, 0)\n",
    "flora['is_Own_child'] = np.where(flora['relationship_in_household']=='Own-child', 1, 0)\n",
    "flora['is_Unmarried'] = np.where(flora['relationship_in_household']=='Unmarried', 1, 0)\n",
    "flora['is_Wife'] = np.where(flora['relationship_in_household']=='Wife', 1, 0)\n",
    "flora['is_Other_relative'] = np.where(flora['relationship_in_household']=='Other-relative', 1, 0)\n",
    "flora['is_US'] = np.where(flora['country_of_origins']=='United-States', 1, 0)\n",
    "flora['is_not_US'] = np.where(flora['country_of_origins']!='United-States', 1, 0)\n",
    "flora['Target_Client_Type'] = np.where(flora['type_of_client']=='Wholesaler', 1, 0)\n",
    "flora['is_Credit'] = np.where(flora['total_order_amount_ytd'].astype(float)<=0, 1, 0)\n",
    "\n",
    "flora.head(n=50) "
   ]
  },
  {
   "cell_type": "code",
   "execution_count": null,
   "id": "433105ab",
   "metadata": {},
   "outputs": [],
   "source": []
  },
  {
   "cell_type": "code",
   "execution_count": null,
   "id": "090f9b68",
   "metadata": {},
   "outputs": [],
   "source": []
  },
  {
   "cell_type": "code",
   "execution_count": null,
   "id": "377a02de",
   "metadata": {},
   "outputs": [],
   "source": [
    "\n",
    "for col in flora:\n",
    "    print(col)"
   ]
  },
  {
   "cell_type": "code",
   "execution_count": null,
   "id": "001fe8d3",
   "metadata": {},
   "outputs": [],
   "source": [
    "flora_binary= "
   ]
  },
  {
   "cell_type": "code",
   "execution_count": null,
   "id": "e60c0ced",
   "metadata": {},
   "outputs": [],
   "source": [
    "flora_test=flora.dropna()\n",
    "\n",
    "flora_test.info()\n",
    "flora_test.isnull().sum()"
   ]
  },
  {
   "cell_type": "code",
   "execution_count": null,
   "id": "c8525a79",
   "metadata": {},
   "outputs": [],
   "source": [
    "Target_Client_Type\n",
    "total_ytd_order\n",
    "total_order_amount_ytd\n",
    "total_order_amount_OND\n",
    "sex\n",
    "marital_status\n",
    "completed_years_of_education\n",
    "Asian-Pac-Islander\n",
    "Amer-Indian-Eskimo\n",
    "Other\n",
    "is_white\n",
    "is_black\n",
    "is_Private\n",
    "is_Gov\n",
    "is_Self_Emp\n",
    "is_no_pay\n",
    "is_Asian-Pac-Islander\n",
    "is_Amer-Indian-Eskimo\n",
    "is_Other\n",
    "is_Husband\n",
    "is_Not-in-family\n",
    "is_Own-child\n",
    "is_Unmarried\n",
    "is_Wife\n",
    "is_Other-relative\n",
    "is_US\n",
    "is_not_US"
   ]
  },
  {
   "cell_type": "code",
   "execution_count": null,
   "id": "34170ca3",
   "metadata": {},
   "outputs": [],
   "source": [
    "import statsmodels.formula.api as smf\n",
    "lm_practice = smf.ols(formula = \"\"\"Target_Client_Type ~ \"\"\",\n",
    "                        data = flora_test)\n",
    "\n",
    "\n",
    "# telling Python to FIT the data to the blueprint\n",
    "results = lm_practice.fit()\n",
    "\n",
    "\n",
    "# printing a summary of the results\n",
    "print(results.summary())"
   ]
  },
  {
   "cell_type": "code",
   "execution_count": null,
   "id": "033ddd64",
   "metadata": {},
   "outputs": [],
   "source": [
    "flora_final = flora[total_order_amount_ytd][YTD_amount_negative][total_order_amount_Q4][Q4_amount_negative][sex][marital_status][age][completed_years_of_education][]\n",
    "\n",
    "\n",
    "[\"is_Private\"]\t[\"is_Gov\"] {\"is_Self_Emp\"}\t[\"is_no_pay\"]\t[\"is_white\"]\t[\"is_black\"]\t[\"is_Api\"]\t[\"is_Aie\"]\t[\"is_Other\"]\t[\"is_Husband\"]\tis_Not-in-family\tis_Own-child\tis_Unmarried\tis_Wife\tis_Other-relative\tis_US\tis_not_US\tTarget_Client_Type\tis_Credit\tis_Not_in_family\tis_Other_relative\n",
    "\n",
    "\n",
    "\n",
    "\n"
   ]
  },
  {
   "cell_type": "code",
   "execution_count": null,
   "id": "30b9601c",
   "metadata": {},
   "outputs": [],
   "source": [
    "# importing libraries\n",
    "import pandas as pd                   # data science essentials\n",
    "import matplotlib.pyplot as plt       # essential graphical output\n",
    "import seaborn as sns                 # enhanced graphical output\n",
    "import numpy as np                    # mathematical essentials\n",
    "import statsmodels.formula.api as smf \n",
    "from sklearn.model_selection import train_test_split\n",
    "from sklearn.linear_model import LinearRegression\n",
    "import sklearn.metrics as metrics\n",
    "X = flora_test.iloc[:, :-1].values\n",
    "y = flora_test.iloc[:, 1].values\n",
    "print(X.shape, y.shape)\n",
    "\n",
    "X_train, X_test, y_train, y_test = train_test_split(X, y, test_size=0.2, random_state=219)\n",
    "\n",
    "\n",
    "regressor = LinearRegression()\n",
    "regressor.fit(X_train, y_train)\n"
   ]
  }
 ],
 "metadata": {
  "kernelspec": {
   "display_name": "Python 3 (ipykernel)",
   "language": "python",
   "name": "python3"
  },
  "language_info": {
   "codemirror_mode": {
    "name": "ipython",
    "version": 3
   },
   "file_extension": ".py",
   "mimetype": "text/x-python",
   "name": "python",
   "nbconvert_exporter": "python",
   "pygments_lexer": "ipython3",
   "version": "3.9.7"
  },
  "toc": {
   "base_numbering": 1,
   "nav_menu": {},
   "number_sections": true,
   "sideBar": true,
   "skip_h1_title": false,
   "title_cell": "Table of Contents",
   "title_sidebar": "Contents",
   "toc_cell": false,
   "toc_position": {},
   "toc_section_display": true,
   "toc_window_display": false
  },
  "varInspector": {
   "cols": {
    "lenName": 16,
    "lenType": 16,
    "lenVar": 40
   },
   "kernels_config": {
    "python": {
     "delete_cmd_postfix": "",
     "delete_cmd_prefix": "del ",
     "library": "var_list.py",
     "varRefreshCmd": "print(var_dic_list())"
    },
    "r": {
     "delete_cmd_postfix": ") ",
     "delete_cmd_prefix": "rm(",
     "library": "var_list.r",
     "varRefreshCmd": "cat(var_dic_list()) "
    }
   },
   "types_to_exclude": [
    "module",
    "function",
    "builtin_function_or_method",
    "instance",
    "_Feature"
   ],
   "window_display": false
  }
 },
 "nbformat": 4,
 "nbformat_minor": 5
}
